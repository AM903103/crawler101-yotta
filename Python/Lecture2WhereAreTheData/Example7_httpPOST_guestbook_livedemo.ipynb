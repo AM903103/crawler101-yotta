{
 "cells": [
  {
   "cell_type": "code",
   "execution_count": 1,
   "metadata": {
    "collapsed": true
   },
   "outputs": [],
   "source": [
    "import requests\n",
    "from datetime import datetime"
   ]
  },
  {
   "cell_type": "code",
   "execution_count": 2,
   "metadata": {
    "collapsed": true
   },
   "outputs": [],
   "source": [
    "url = \"http://apt-bonbon-93413.appspot.com/sign\""
   ]
  },
  {
   "cell_type": "code",
   "execution_count": 8,
   "metadata": {
    "collapsed": true
   },
   "outputs": [],
   "source": [
    "post_data = {\n",
    "    \"content\": \"[TEST Posting Message by Python] {message} At {time}\".format(message=\"今天天氣很好\",time=datetime.now())\n",
    "}"
   ]
  },
  {
   "cell_type": "code",
   "execution_count": 9,
   "metadata": {
    "collapsed": true
   },
   "outputs": [],
   "source": [
    "res = requests.post(url,data=post_data)"
   ]
  },
  {
   "cell_type": "code",
   "execution_count": 10,
   "metadata": {},
   "outputs": [
    {
     "data": {
      "text/plain": [
       "<Response [200]>"
      ]
     },
     "execution_count": 10,
     "metadata": {},
     "output_type": "execute_result"
    }
   ],
   "source": [
    "res"
   ]
  },
  {
   "cell_type": "code",
   "execution_count": 11,
   "metadata": {},
   "outputs": [
    {
     "data": {
      "text/plain": [
       "[<Response [302]>]"
      ]
     },
     "execution_count": 11,
     "metadata": {},
     "output_type": "execute_result"
    }
   ],
   "source": [
    "res.history"
   ]
  },
  {
   "cell_type": "code",
   "execution_count": 12,
   "metadata": {},
   "outputs": [
    {
     "data": {
      "text/plain": [
       "'<!DOCTYPE html>\\n\\n<html>\\n  <head>\\n    <link type=\"text/css\" rel=\"stylesheet\" href=\"/bootstrap/css/bootstrap.css\" rel=\"stylesheet\">\\n    <link type=\"text/css\" rel=\"stylesheet\" href=\"/bootstrap/css/bootstrap-responsive.css\" rel=\"stylesheet\">\\n    <style type=\"text/css\">\\n      body {\\n        padding-top: 40px;\\n        padding-bottom: 40px;\\n        background-color: #f5f5f5;\\n      }\\n      blockquote {\\n        margin-bottom: 10px;\\n        border-left-color: #bbb;\\n      }\\n      form {\\n        margin-top: 10px;\\n      }\\n      .form-signin input[type=\"text\"] {\\n        font-size: 16px;\\n        height: auto;\\n        margin-bottom: 15px;\\n        padding: 7px 9px;\\n      }\\n      .row {\\n        margin-left: 0px;\\n        margin-top: 10px;\\n        overflow: scroll;\\n      }\\n    </style>\\n  </head>\\n  <body>\\n    <div class=\"navbar navbar-inverse navbar-fixed-top\">\\n      <div class=\"navbar-inner\">\\n        <div class=\"container\">\\n          <button type=\"button\" class=\"btn btn-navbar\" data-toggle=\"collapse\" data-target=\".nav-collapse\">\\n            <span class=\"icon-bar\"></span>\\n            <span class=\"icon-bar\"></span>\\n            <span class=\"icon-bar\"></span>\\n          </button>\\n          <a class=\"brand\" href=\"#\">App Engine Guestbook</a>\\n          <div class=\"nav-collapse collapse pull-right\">\\n            <a href=\"https://www.google.com/accounts/ServiceLogin?service=ah&passive=true&continue=https://appengine.google.com/_ah/conflogin%3Fcontinue%3Dhttp://apt-bonbon-93413.appspot.com/\" class=\"btn\">Login</a>\\n          </div>\\n        </div>\\n      </div>\\n    </div>\\n    <div class=\"container\">\\n\\n      \\n      <div class=\"row\">\\n        \\n         An anonymous person wrote:\\n        \\n        <blockquote>[TEST Posting Message by Python] 今天天氣很好 At 2018-01-31 21:31:35.482783</blockquote>\\n      </div>\\n      \\n      <div class=\"row\">\\n        \\n         An anonymous person wrote:\\n        \\n        <blockquote>[TEST Posting Message] 今天天氣很好 At 2018-01-31 21:30:53.146455</blockquote>\\n      </div>\\n      \\n      <div class=\"row\">\\n        \\n         An anonymous person wrote:\\n        \\n        <blockquote>[TEST Posting Message] 今天天氣很好 At 2018-01-31 21:27:33</blockquote>\\n      </div>\\n      \\n      <div class=\"row\">\\n        \\n         An anonymous person wrote:\\n        \\n        <blockquote>今天天氣很好1231517433942.688</blockquote>\\n      </div>\\n      \\n      <div class=\"row\">\\n        \\n         An anonymous person wrote:\\n        \\n        <blockquote>今天天氣很好1517433857.29676</blockquote>\\n      </div>\\n      \\n      <div class=\"row\">\\n        \\n         An anonymous person wrote:\\n        \\n        <blockquote>今天天氣很好1517433857.29676</blockquote>\\n      </div>\\n      \\n      <div class=\"row\">\\n        \\n         An anonymous person wrote:\\n        \\n        <blockquote>今天天氣很好1517433634.16768</blockquote>\\n      </div>\\n      \\n      <div class=\"row\">\\n        \\n         An anonymous person wrote:\\n        \\n        <blockquote>今天天氣很好1517433634.16768</blockquote>\\n      </div>\\n      \\n      <div class=\"row\">\\n        \\n         An anonymous person wrote:\\n        \\n        <blockquote>留言測試123321</blockquote>\\n      </div>\\n      \\n      <div class=\"row\">\\n        \\n         An anonymous person wrote:\\n        \\n        <blockquote>留言測試123</blockquote>\\n      </div>\\n      \\n\\n      <form action=\"/sign\" method=\"post\">\\n        <div><textarea name=\"content\" class=\"input-block-level\" rows=\"3\"></textarea></div>\\n        <div><input type=\"submit\" class=\"btn btn-large btn-primary\" value=\"Sign Guestbook\"></div>\\n      </form>\\n\\n        </div>\\n  </body>\\n</html>\\n'"
      ]
     },
     "execution_count": 12,
     "metadata": {},
     "output_type": "execute_result"
    }
   ],
   "source": [
    "res.text"
   ]
  },
  {
   "cell_type": "code",
   "execution_count": null,
   "metadata": {
    "collapsed": true
   },
   "outputs": [],
   "source": []
  }
 ],
 "metadata": {
  "kernelspec": {
   "display_name": "Python 3",
   "language": "python",
   "name": "python3"
  },
  "language_info": {
   "codemirror_mode": {
    "name": "ipython",
    "version": 3
   },
   "file_extension": ".py",
   "mimetype": "text/x-python",
   "name": "python",
   "nbconvert_exporter": "python",
   "pygments_lexer": "ipython3",
   "version": "3.6.2"
  }
 },
 "nbformat": 4,
 "nbformat_minor": 2
}
